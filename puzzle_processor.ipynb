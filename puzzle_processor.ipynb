{
 "cells": [
  {
   "cell_type": "code",
   "execution_count": 10,
   "id": "560d0d68",
   "metadata": {},
   "outputs": [],
   "source": [
    "import json\n",
    "import collections\n",
    "from nltk.corpus import words\n",
    "import nltk"
   ]
  },
  {
   "cell_type": "code",
   "execution_count": 11,
   "id": "859920f5",
   "metadata": {},
   "outputs": [
    {
     "name": "stderr",
     "output_type": "stream",
     "text": [
      "[nltk_data] Downloading package words to\n",
      "[nltk_data]     C:\\Users\\cmacd\\AppData\\Roaming\\nltk_data...\n",
      "[nltk_data]   Package words is already up-to-date!\n"
     ]
    }
   ],
   "source": [
    "nltk.download('words')\n",
    "nltk_words = set(words.words())  # Get a set of about 236736 common English words"
   ]
  },
  {
   "cell_type": "code",
   "execution_count": 12,
   "id": "f1abf018",
   "metadata": {},
   "outputs": [],
   "source": [
    "def can_form(word, letter_count):\n",
    "    \"\"\"\n",
    "    Check if a word can be made from the puzzle.\n",
    "\n",
    "    Args:\n",
    "        word (str): The word to check.\n",
    "        letter_count (collections.Counter): The letter count of the puzzle.\n",
    "\n",
    "    Returns:\n",
    "        bool: True if the word can be made from the puzzle, False otherwise.\n",
    "    \"\"\"\n",
    "    word_count = collections.Counter(word)\n",
    "    for letter, count in word_count.items():\n",
    "        if letter_count[letter] < count:\n",
    "            return False\n",
    "    return True"
   ]
  },
  {
   "cell_type": "code",
   "execution_count": 13,
   "id": "4b676ebf",
   "metadata": {},
   "outputs": [],
   "source": [
    "def load_json_file(file_path):\n",
    "    \"\"\"\n",
    "    Load JSON content from a file.\n",
    "\n",
    "    Args:\n",
    "        file_path (str): The path of the JSON file.\n",
    "\n",
    "    Returns:\n",
    "        dict: The JSON content.\n",
    "    \"\"\"\n",
    "    with open(file_path, 'r') as f:\n",
    "        content = json.load(f)\n",
    "    return content"
   ]
  },
  {
   "cell_type": "code",
   "execution_count": 14,
   "id": "cda98e48",
   "metadata": {},
   "outputs": [],
   "source": [
    "def filter_words(word_list, min_length=3, max_length=7):\n",
    "    \"\"\"\n",
    "    Filter the words based on the given length constraints.\n",
    "\n",
    "    Args:\n",
    "        word_list (list): The list of words to filter.\n",
    "        min_length (int): The minimum length of the words to keep.\n",
    "        max_length (int): The maximum length of the words to keep.\n",
    "\n",
    "    Returns:\n",
    "        list: The filtered words.\n",
    "    \"\"\"\n",
    "    return [word for word in word_list if word in nltk_words and min_length <= len(word) <= max_length]"
   ]
  },
  {
   "cell_type": "code",
   "execution_count": 15,
   "id": "69ae5eff",
   "metadata": {},
   "outputs": [],
   "source": [
    "def extract_words_from_puzzle(puzzle):\n",
    "    \"\"\"\n",
    "    Extract words from the puzzle.\n",
    "\n",
    "    Args:\n",
    "        puzzle (str): The puzzle string.\n",
    "\n",
    "    Returns:\n",
    "        list: The extracted words from the puzzle.\n",
    "    \"\"\"\n",
    "    words_in_puzzle = [puzzle[i:i+5].lower() for i in range(0, 25, 5)]\n",
    "\n",
    "    for i in range(5):\n",
    "        word = ''.join(puzzle[j] for j in range(i, 25, 5)).lower()\n",
    "        words_in_puzzle.append(word)\n",
    "\n",
    "    return words_in_puzzle"
   ]
  },
  {
   "cell_type": "code",
   "execution_count": 16,
   "id": "03681e26",
   "metadata": {},
   "outputs": [],
   "source": [
    "def save_json_file(file_path, content):\n",
    "    \"\"\"\n",
    "    Save JSON content to a file.\n",
    "\n",
    "    Args:\n",
    "        file_path (str): The path of the JSON file.\n",
    "        content (dict): The JSON content to save.\n",
    "    \"\"\"\n",
    "    with open(file_path, 'w') as f:\n",
    "        json.dump(content, f, indent=4)"
   ]
  },
  {
   "cell_type": "code",
   "execution_count": 17,
   "id": "1716e3e4",
   "metadata": {},
   "outputs": [],
   "source": [
    "def main():\n",
    "    words_dict = load_json_file('words.json')\n",
    "    filtered_words = filter_words(words_dict)\n",
    "\n",
    "    puzzles_dict = load_json_file('puzzles.json')\n",
    "\n",
    "    for id, puzzle in puzzles_dict.items():\n",
    "        puzzle = puzzle.lower()\n",
    "        words_in_puzzle = extract_words_from_puzzle(puzzle)\n",
    "        letter_count = collections.Counter(puzzle.lower())\n",
    "        valid_words =  valid_words = [word for word in filtered_words if can_form(word, letter_count)]\n",
    "\n",
    "        # Create a dictionary to hold the puzzle data\n",
    "        puzzle_data = {\n",
    "            'original_puzzle': puzzle,\n",
    "            'words_in_puzzle': words_in_puzzle,\n",
    "            'letter_count': dict(letter_count),\n",
    "            'valid_count': len(valid_words),\n",
    "            'valid_words': valid_words\n",
    "        }\n",
    "\n",
    "        # Save the puzzle data to a JSON file\n",
    "        save_json_file(f'puzzle_jsons/puzzle_{id}.json', puzzle_data)"
   ]
  },
  {
   "cell_type": "code",
   "execution_count": 18,
   "id": "85e2a092",
   "metadata": {},
   "outputs": [],
   "source": [
    "if __name__ == \"__main__\":\n",
    "    main()"
   ]
  }
 ],
 "metadata": {
  "kernelspec": {
   "display_name": "Python 3 (ipykernel)",
   "language": "python",
   "name": "python3"
  },
  "language_info": {
   "codemirror_mode": {
    "name": "ipython",
    "version": 3
   },
   "file_extension": ".py",
   "mimetype": "text/x-python",
   "name": "python",
   "nbconvert_exporter": "python",
   "pygments_lexer": "ipython3",
   "version": "3.9.7"
  }
 },
 "nbformat": 4,
 "nbformat_minor": 5
}
